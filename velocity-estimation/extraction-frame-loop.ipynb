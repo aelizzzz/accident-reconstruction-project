{
 "cells": [
  {
   "cell_type": "markdown",
   "id": "982dda2e",
   "metadata": {},
   "source": [
    "# Extraction of the frames from the impact videos\n",
    "\n",
    "To use in order to run OpenPose\n",
    "\n",
    "To-do: update the folder path, the results directory and the path to the reference image for the rink\n",
    "\n",
    "Azilis EVEN"
   ]
  },
  {
   "cell_type": "code",
   "execution_count": 3,
   "id": "d9cec4dd",
   "metadata": {},
   "outputs": [],
   "source": [
    "import cv2, os, math, csv\n",
    "import matplotlib.pyplot as plt\n",
    "import numpy as np\n",
    "from scipy import signal\n",
    "import os\n",
    "import json"
   ]
  },
  {
   "cell_type": "code",
   "execution_count": 4,
   "id": "b2a03a4e",
   "metadata": {},
   "outputs": [
    {
     "name": "stdout",
     "output_type": "stream",
     "text": [
      "2018-11-17_brynas-djurgarden\n",
      "Number of frames: 14\n",
      "Duration of the impact video: 0.56 s\n",
      "2018-11-17_brynas-djurgarden\n",
      "Number of frames: 14\n",
      "Duration of the impact video: 0.56 s\n"
     ]
    }
   ],
   "source": [
    "folder_path = 'D:/Utilisateurs/Azilis/Documents/_Thesis/master-thesis-kth/season18-19/videos-part3'\n",
    "\n",
    "for filename in os.listdir(folder_path):\n",
    "    video_path = os.path.join(folder_path, filename)\n",
    "    # checking if it is a file\n",
    "    if os.path.isfile(video_path):\n",
    "        case = filename.split(\".\")[0]\n",
    "        print(case)\n",
    "        \n",
    "        # Enter video directory\n",
    "        # /!\\ The video needs to have been stabilised previously to keep the homography valid between frames\n",
    "        # if not, the homography and landmark selection step needs to be included in the loop\n",
    "        video_dir = os.path.join(folder_path, case+'.mp4')\n",
    "\n",
    "        # Results directory\n",
    "        dir_case = \"season18-19/\"+case\n",
    "\n",
    "        # Ground plane image - cropped as close as possible to the rink size\n",
    "        img_dst_dir = \"D:/Utilisateurs/Azilis/Documents/_Thesis/master-thesis-kth/5-homography/iihf_rink.png\"\n",
    "        \n",
    "        # Create results directory\n",
    "        if not os.path.exists(dir_case):\n",
    "            os.mkdir(dir_case)\n",
    "\n",
    "        # Create image folder directory for the frames from the video\n",
    "        dir_img = dir_case + \"/images\"\n",
    "        if not os.path.exists(dir_img):\n",
    "            os.mkdir(dir_img)\n",
    "\n",
    "        # Create keypoints directory\n",
    "        dir_annot = dir_case + \"/keypoints-openpose\"\n",
    "        if not os.path.exists(dir_annot):\n",
    "            os.mkdir(dir_annot)\n",
    "            \n",
    "        # Create images rendered directory\n",
    "        dir_rendered = dir_case + \"/images-rendered\"\n",
    "        if not os.path.exists(dir_rendered):\n",
    "            os.mkdir(dir_rendered)\n",
    "        \n",
    "        video = cv2.VideoCapture(video_dir)\n",
    "        # Get number of frames\n",
    "        nrOfframes = int(video.get(cv2.CAP_PROP_FRAME_COUNT))\n",
    "        print(\"Number of frames: \" + str(nrOfframes))\n",
    "        # Get FPS\n",
    "        fps = 25 # Hz\n",
    "        sequencelength = nrOfframes/fps\n",
    "        print(\"Duration of the impact video: \" + str(sequencelength) + \" s\")\n",
    "\n",
    "        i = 0\n",
    "        while True:\n",
    "            ret, image = video.read()\n",
    "            if ret == False:\n",
    "                break\n",
    "            cv2.imwrite(dir_img + '/image' + '0'*(len(str(nrOfframes))-len(str(i))) + str(i) + '.jpg', image)\n",
    "            i+= 1\n",
    "\n",
    "        video.release()\n"
   ]
  },
  {
   "cell_type": "code",
   "execution_count": null,
   "id": "89d3a260",
   "metadata": {},
   "outputs": [],
   "source": []
  }
 ],
 "metadata": {
  "kernelspec": {
   "display_name": "Python 3 (ipykernel)",
   "language": "python",
   "name": "python3"
  },
  "language_info": {
   "codemirror_mode": {
    "name": "ipython",
    "version": 3
   },
   "file_extension": ".py",
   "mimetype": "text/x-python",
   "name": "python",
   "nbconvert_exporter": "python",
   "pygments_lexer": "ipython3",
   "version": "3.9.13"
  }
 },
 "nbformat": 4,
 "nbformat_minor": 5
}
