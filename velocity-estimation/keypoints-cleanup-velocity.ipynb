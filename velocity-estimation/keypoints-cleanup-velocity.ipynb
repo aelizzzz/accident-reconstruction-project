{
 "cells": [
  {
   "cell_type": "markdown",
   "id": "2ecc4272",
   "metadata": {},
   "source": [
    "# Keypoints clean-up after PoseAnnotator - For Velocity extraction\n",
    "\n",
    "Azilis EVEN"
   ]
  },
  {
   "cell_type": "code",
   "execution_count": 11,
   "id": "f124cd0b",
   "metadata": {},
   "outputs": [],
   "source": [
    "import os\n",
    "import json\n",
    "import shutil\n",
    "import zipfile"
   ]
  },
  {
   "cell_type": "code",
   "execution_count": 12,
   "id": "03249bbf",
   "metadata": {},
   "outputs": [
    {
     "name": "stdout",
     "output_type": "stream",
     "text": [
      "image00_keypoints.json\n",
      "2\n",
      "image01_keypoints.json\n",
      "2\n",
      "image02_keypoints.json\n",
      "2\n",
      "image03_keypoints.json\n",
      "2\n",
      "image04_keypoints.json\n",
      "2\n",
      "image05_keypoints.json\n",
      "2\n",
      "image06_keypoints.json\n",
      "2\n"
     ]
    }
   ],
   "source": [
    "# For a folder\n",
    "\n",
    "parent = \"C:/Users/Azilis/Documents/master-thesis-ipynb/season18-19/velocity-estimation/2018-12-21_orebro-skelleftea2\"\n",
    "dir_str = os.path.join(parent, \"keypoints-str\")\n",
    "if not os.path.exists(dir_str):\n",
    "    os.mkdir(dir_str)\n",
    "dir_float = os.path.join(parent, \"keypoints\")\n",
    "if not os.path.exists(dir_float):\n",
    "    os.mkdir(dir_float)\n",
    "\n",
    "## CleanUp from pose annotator zip\n",
    "for filename in os.listdir(parent):\n",
    "    file = os.path.join(parent, filename)\n",
    "    # checking if it is a zip file\n",
    "    if filename.endswith(\".zip\"):\n",
    "        number = filename.split(\".\")[0]\n",
    "        newfile = \"image\"+number+\"_keypoints.json\"\n",
    "        #print(newfile)\n",
    "        with zipfile.ZipFile(file) as z:\n",
    "            with z.open(newfile) as zf, open(os.path.join(dir_str, newfile), 'wb') as f:\n",
    "                shutil.copyfileobj(zf, f)\n",
    "    \n",
    "for filename in os.listdir(dir_str):\n",
    "    file = os.path.join(dir_str, filename)\n",
    "    # checking if it is a file\n",
    "    if os.path.isfile(file):\n",
    "        print(filename)\n",
    "        with open(file) as f:\n",
    "            keypoints = json.load(f)\n",
    "        #print(keypoints)\n",
    "        nbPeople=0\n",
    "        zeroIndexes = []\n",
    "        for person in keypoints['people']:\n",
    "            nbPeople+=1\n",
    "            allZero = True\n",
    "            for element in person:\n",
    "                # Check for str after pose-annotator\n",
    "                for i in range(len(person[element])):\n",
    "                    if float(person[element][i]) != 0.0 and i%3 !=2 :\n",
    "                        allZero = False\n",
    "                    if isinstance(person[element][i], str):\n",
    "                        person[element][i] = float(person[element][i])\n",
    "                # Check for confidence values at 0 after pose-annotator\n",
    "                for i in range(0, len(person[element])-1, 3):\n",
    "                    if person[element][i]!=0 and person[element][i+1]!=0 and person[element][i+2]==0:\n",
    "                        person[element][i+2] = 0.9\n",
    "            if allZero:\n",
    "                zeroIndexes.append(nbPeople-1)\n",
    "                nbPeople-=1\n",
    "        print(nbPeople)\n",
    "        # Warning Ugly removal, only works since reading and deleting in order\n",
    "        for index in zeroIndexes:\n",
    "            keypoints['people'].pop(index)\n",
    "            for i in range(index+1, len(zeroIndexes)):\n",
    "                zeroIndexes[i]-=1\n",
    "            print(\"Removed empty person\")\n",
    "        if len(person[\"face_keypoints_2d\"]) == 0:\n",
    "            person[\"face_keypoints_2d\"] = [0]*210\n",
    "        if len(person[\"hand_left_keypoints_2d\"]) == 0:\n",
    "            person[\"hand_left_keypoints_2d\"] = [0]*63\n",
    "        if len(person[\"hand_right_keypoints_2d\"]) == 0:\n",
    "            person[\"hand_right_keypoints_2d\"] = [0]*63\n",
    "        #print(keypoints)\n",
    "        save = dir_float + \"/\" + filename\n",
    "        with open(save, \"w\") as f:\n",
    "            json.dump(keypoints, f, indent=2)"
   ]
  },
  {
   "cell_type": "code",
   "execution_count": null,
   "id": "e4d536fa",
   "metadata": {},
   "outputs": [],
   "source": []
  }
 ],
 "metadata": {
  "kernelspec": {
   "display_name": "Python 3 (ipykernel)",
   "language": "python",
   "name": "python3"
  },
  "language_info": {
   "codemirror_mode": {
    "name": "ipython",
    "version": 3
   },
   "file_extension": ".py",
   "mimetype": "text/x-python",
   "name": "python",
   "nbconvert_exporter": "python",
   "pygments_lexer": "ipython3",
   "version": "3.9.13"
  }
 },
 "nbformat": 4,
 "nbformat_minor": 5
}
