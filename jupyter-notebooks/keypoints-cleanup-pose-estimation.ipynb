{
 "cells": [
  {
   "cell_type": "markdown",
   "id": "b9961ec0",
   "metadata": {},
   "source": [
    "# Keypoints clean-up after PoseAnnotator - For SMPLify-X use\n",
    "\n",
    "Azilis EVEN"
   ]
  },
  {
   "cell_type": "code",
   "execution_count": 1,
   "id": "f124cd0b",
   "metadata": {},
   "outputs": [],
   "source": [
    "import os\n",
    "import json\n",
    "import shutil\n",
    "import zipfile"
   ]
  },
  {
   "cell_type": "code",
   "execution_count": 2,
   "id": "03249bbf",
   "metadata": {},
   "outputs": [
    {
     "name": "stdout",
     "output_type": "stream",
     "text": [
      "2018-10-02_malmo-frolunda_frame_500_player2_keypoints.json\n",
      "2018-10-30_timra-lulea_frame_247_player1_keypoints.json\n",
      "2018-10-30_timra-lulea_frame_247_player2_keypoints.json\n",
      "2018-11-17_brynas-djurgarden_frame_251_player2_keypoints.json\n",
      "2018-12-01_hv71-vaxjo_frame_223_player2_keypoints.json\n",
      "2018-12-01_skelleftea-brynas_frame_287_player1_keypoints.json\n",
      "2018-12-01_skelleftea-brynas_frame_287_player2_keypoints.json\n",
      "2018-12-21_orebro-skelleftea_frame_66_player2_keypoints.json\n",
      "2018-12-26_frolunda-lulea_frame_277_player1_keypoints.json\n",
      "2018-12-26_frolunda-lulea_frame_277_player2_keypoints.json\n",
      "2019-01-29_skelleftea-rogle_frame_271_player2_keypoints.json\n",
      "2018-10-02_malmo-frolunda_frame_500_player2_keypoints.json\n",
      "2018-10-30_timra-lulea_frame_247_player1_keypoints.json\n",
      "2018-10-30_timra-lulea_frame_247_player2_keypoints.json\n",
      "2018-11-17_brynas-djurgarden_frame_251_player2_keypoints.json\n",
      "2018-12-01_hv71-vaxjo_frame_223_player2_keypoints.json\n",
      "2018-12-01_skelleftea-brynas_frame_287_player1_keypoints.json\n",
      "2018-12-01_skelleftea-brynas_frame_287_player2_keypoints.json\n",
      "2018-12-21_orebro-skelleftea_frame_66_player2_keypoints.json\n",
      "2018-12-26_frolunda-lulea_frame_277_player1_keypoints.json\n",
      "2018-12-26_frolunda-lulea_frame_277_player2_keypoints.json\n",
      "2019-01-29_skelleftea-rogle_frame_271_player2_keypoints.json\n"
     ]
    }
   ],
   "source": [
    "# For a folder\n",
    "\n",
    "parent = \"D:/Utilisateurs/Azilis/Documents/_Thesis/master-thesis-kth/season18-19/pose-estimation\"\n",
    "dir_str = os.path.join(parent, \"keypoints-str\")\n",
    "if not os.path.exists(dir_str):\n",
    "    os.mkdir(dir_str)\n",
    "dir_float = os.path.join(parent, \"keypoints\")\n",
    "if not os.path.exists(dir_float):\n",
    "    os.mkdir(dir_float)\n",
    "    \n",
    "## CleanUp from pose annotator zip\n",
    "for filename in os.listdir(parent):\n",
    "    file = os.path.join(parent, filename)\n",
    "    # checking if it is a zip file\n",
    "    if filename.endswith(\".zip\"):\n",
    "        newfile = filename.split(\".\")[0] + \"_keypoints.json\"\n",
    "        print(newfile)\n",
    "        with zipfile.ZipFile(file) as z:\n",
    "            with z.open(newfile) as zf, open(os.path.join(dir_str, newfile), 'wb') as f:\n",
    "                shutil.copyfileobj(zf, f)\n",
    "    \n",
    "for filename in os.listdir(dir_str):\n",
    "    file = os.path.join(dir_str, filename)\n",
    "    # checking if it is a file\n",
    "    if os.path.isfile(file):\n",
    "        with open(file) as f:\n",
    "            keypoints = json.load(f)\n",
    "        #print(keypoints)\n",
    "        for person in keypoints['people']:\n",
    "            for element in person:\n",
    "                # Check for str after pose-annotator\n",
    "                for i in range(len(person[element])):\n",
    "                    if isinstance(person[element][i], str):\n",
    "                        person[element][i] = float(person[element][i])\n",
    "                # Check for confidence values at 0 after pose-annotator\n",
    "                for i in range(0, len(person[element])-1, 3):\n",
    "                    if person[element][i]!=0 and person[element][i+1]!=0 and person[element][i+2]==0:\n",
    "                        person[element][i+2] = 0.9\n",
    "        if len(person[\"face_keypoints_2d\"]) == 0:\n",
    "            person[\"face_keypoints_2d\"] = [0]*210\n",
    "        if len(person[\"hand_left_keypoints_2d\"]) == 0:\n",
    "            person[\"hand_left_keypoints_2d\"] = [0]*63\n",
    "        if len(person[\"hand_right_keypoints_2d\"]) == 0:\n",
    "            person[\"hand_right_keypoints_2d\"] = [0]*63\n",
    "        #print(keypoints)\n",
    "        save = dir_float + \"/\" + filename\n",
    "        with open(save, \"w\") as f:\n",
    "            json.dump(keypoints, f, indent=2)\n",
    "        print(filename)"
   ]
  },
  {
   "cell_type": "code",
   "execution_count": 7,
   "id": "37a0fd75",
   "metadata": {},
   "outputs": [
    {
     "name": "stdout",
     "output_type": "stream",
     "text": [
      "2018-09-27_orebro-linkoping_frame_308\n",
      "2019-02-16_malmo-vaxjo_frame_49\n",
      "2019-02-23_linkoping-djurgarden\n"
     ]
    }
   ],
   "source": [
    "# Separate players into different json files\n",
    "\n",
    "dir_float = \"D:/Utilisateurs/Azilis/Documents/_Thesis/master-thesis-kth/season18-19/pose-estimation/keypoints-both-players-part3\"\n",
    "dir_players = \"D:/Utilisateurs/Azilis/Documents/_Thesis/master-thesis-kth/season18-19/pose-estimation/keypoints\"\n",
    "if not os.path.exists(dir_players):\n",
    "    os.mkdir(dir_players)\n",
    "\n",
    "for filename in os.listdir(dir_float):\n",
    "    file = os.path.join(dir_float, filename)\n",
    "    # checking if it is a file\n",
    "    if os.path.isfile(file):\n",
    "        #print(file)\n",
    "        with open(file) as f:\n",
    "            keypoints_player1 = json.load(f)\n",
    "        if len(keypoints_player1['people']) != 2:\n",
    "            print(\"Too little or many players: \"+str(len(keypoints_player1['people'])))\n",
    "        else:\n",
    "            keypoints_player2 = keypoints_player1.copy()\n",
    "            # separate players\n",
    "            keypoints_player1['people'] = [keypoints_player1['people'][0]]\n",
    "            keypoints_player2['people'] = [keypoints_player2['people'][1]]   \n",
    "            # Test for empty hands or face to avoid issues with smplifyx\n",
    "            if len(keypoints_player1['people'][0][\"face_keypoints_2d\"]) == 0:\n",
    "                keypoints_player1['people'][0][\"face_keypoints_2d\"] = [0]*210\n",
    "            if len(keypoints_player1['people'][0][\"hand_left_keypoints_2d\"]) == 0:\n",
    "                keypoints_player1['people'][0][\"hand_left_keypoints_2d\"] = [0]*63\n",
    "            if len(keypoints_player1['people'][0][\"hand_right_keypoints_2d\"]) == 0:\n",
    "                keypoints_player1['people'][0][\"hand_right_keypoints_2d\"] = [0]*63\n",
    "            if len(keypoints_player2['people'][0][\"face_keypoints_2d\"]) == 0:\n",
    "                keypoints_player2['people'][0][\"face_keypoints_2d\"] = [0]*210\n",
    "            if len(keypoints_player2['people'][0][\"hand_left_keypoints_2d\"]) == 0:\n",
    "                keypoints_player2['people'][0][\"hand_left_keypoints_2d\"] = [0]*63\n",
    "            if len(keypoints_player2['people'][0][\"hand_right_keypoints_2d\"]) == 0:\n",
    "                keypoints_player2['people'][0][\"hand_right_keypoints_2d\"] = [0]*63\n",
    "            # save results\n",
    "            split = filename.split(\"_\")\n",
    "            name = \"_\".join(split[0:len(split)-1])\n",
    "            print(name)\n",
    "            save_player1 = dir_players + \"/\" + name + \"_player1_keypoints.json\"\n",
    "            save_player2 = dir_players + \"/\" + name + \"_player2_keypoints.json\"\n",
    "            with open(save_player1, \"w\") as f:\n",
    "                json.dump(keypoints_player1, f, indent=2)\n",
    "            with open(save_player2, \"w\") as f:\n",
    "                json.dump(keypoints_player2, f, indent=2)"
   ]
  },
  {
   "cell_type": "code",
   "execution_count": null,
   "id": "e4d536fa",
   "metadata": {},
   "outputs": [],
   "source": []
  }
 ],
 "metadata": {
  "kernelspec": {
   "display_name": "Python 3 (ipykernel)",
   "language": "python",
   "name": "python3"
  },
  "language_info": {
   "codemirror_mode": {
    "name": "ipython",
    "version": 3
   },
   "file_extension": ".py",
   "mimetype": "text/x-python",
   "name": "python",
   "nbconvert_exporter": "python",
   "pygments_lexer": "ipython3",
   "version": "3.9.13"
  }
 },
 "nbformat": 4,
 "nbformat_minor": 5
}
