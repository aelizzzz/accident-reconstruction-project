{
 "cells": [
  {
   "cell_type": "markdown",
   "id": "23e94066",
   "metadata": {},
   "source": [
    "# Scraper to get hockey players' height and weight\n",
    "\n",
    "To limit the need for manual research for each player when watching the videos \\\n",
    "Azilis EVEN"
   ]
  },
  {
   "cell_type": "code",
   "execution_count": 1,
   "id": "5b51f50a",
   "metadata": {},
   "outputs": [],
   "source": [
    "import requests\n",
    "from bs4 import BeautifulSoup\n",
    "import json\n",
    "from openpyxl import Workbook\n",
    "from openpyxl import load_workbook\n",
    "from openpyxl import worksheet\n",
    "import os"
   ]
  },
  {
   "cell_type": "code",
   "execution_count": 2,
   "id": "b9e68a22",
   "metadata": {},
   "outputs": [],
   "source": [
    "###### TO FILL IN #######\n",
    "\n",
    "# Player jersey number\n",
    "jerseyNb = 7\n",
    "\n",
    "# Season (in the \"2017-2018\" format)\n",
    "season = \"2017-2018\"\n",
    "\n",
    "# Choose the club in the following list\n",
    "# 2/brynas-if 3/djurgardens-if 4/farjestad-bk 5/hv71 6/linkoping-hc 7/lulea-hf 8/malmo-redhawks 12/frolunda-hc \n",
    "# 22/skelleftea-aik 28/leksands-if 32/rogle-bk 36/orebro-hk 339/vaxjo-lakers-hc\n",
    "# If the club is not in the list, check https://www.eliteprospects.com/league/shl or https://www.eliteprospects.com/league/hockeyallsvenskan\n",
    "club = \"7/lulea-hf\"\n",
    "\n",
    "# Path of the spreadsheet to save the info, if needed\n",
    "pathExcel = \"players-bmi-info.xlsx\""
   ]
  },
  {
   "cell_type": "code",
   "execution_count": 3,
   "id": "41568096",
   "metadata": {},
   "outputs": [
    {
     "name": "stdout",
     "output_type": "stream",
     "text": [
      "https://www.eliteprospects.com/team/7/lulea-hf/2017-2018\n"
     ]
    }
   ],
   "source": [
    "# Get page source code and parse it\n",
    "URL = \"https://www.eliteprospects.com/team/\" + club + \"/\" + season\n",
    "print(URL)\n",
    "page = requests.get(URL)\n",
    "soup = BeautifulSoup(page.content, \"html.parser\")"
   ]
  },
  {
   "cell_type": "code",
   "execution_count": 4,
   "id": "f80219ee",
   "metadata": {},
   "outputs": [
    {
     "name": "stdout",
     "output_type": "stream",
     "text": [
      "Jan Sandström\n",
      "184 cm\n",
      "89 kg\n"
     ]
    }
   ],
   "source": [
    "# Get the info for the BMI calculations\n",
    "\n",
    "results = soup.find(id=\"__NEXT_DATA__\")\n",
    "resultsTXT = results.text\n",
    "resultsJSON = json.loads(resultsTXT)\n",
    "playersRoster = resultsJSON[\"props\"][\"pageProps\"][\"rosterList\"][\"tableData\"][\"edges\"]\n",
    "playerSelected = list(filter(lambda x:x[\"jerseyNumber\"]==jerseyNb,playersRoster))[0]\n",
    "playerName = playerSelected[\"player\"][\"name\"]\n",
    "print(playerName)\n",
    "playerHeight = playerSelected[\"player\"][\"height\"][\"metrics\"]\n",
    "print(str(playerHeight) + \" cm\")\n",
    "playerWeight = playerSelected[\"player\"][\"weight\"][\"metrics\"]\n",
    "print(str(playerWeight) + \" kg\")"
   ]
  },
  {
   "cell_type": "code",
   "execution_count": 8,
   "id": "66616918",
   "metadata": {},
   "outputs": [],
   "source": [
    "# Create/open the excel sheet and create the player info sheet if needed\n",
    "# Then set this sheet as active sheet\n",
    "if not os.path.isfile(pathExcel):\n",
    "    workbook = Workbook()\n",
    "    sheetPlayers = workbook.active\n",
    "    sheetPlayers.title = 'players.info'\n",
    "else:\n",
    "    workbook = load_workbook(filename=pathExcel)\n",
    "    if not 'players.info' in workbook.sheetnames:\n",
    "        sheetPlayers = workbook.create_sheet('players.info')\n",
    "    else:\n",
    "        sheetPlayers = workbook['players.info']\n",
    "workbook.save(filename=pathExcel)\n",
    "\n",
    "# Add colum names if needed\n",
    "if not sheetPlayers[\"A1\"] == \"season\":\n",
    "    sheetPlayers.insert_rows(idx=1)\n",
    "    columns = [\"season\", \"jerseyNb\", \"playerName\", \"club\", \"playerHeight\", \"playerWeight\"]\n",
    "    for i in range(len(columns)):\n",
    "            cell=sheetPlayers.cell(row=1, column=i+1)\n",
    "            cell.value=columns[i]\n",
    "workbook.save(filename=pathExcel)"
   ]
  },
  {
   "cell_type": "code",
   "execution_count": 10,
   "id": "ccc9c0e2",
   "metadata": {},
   "outputs": [],
   "source": [
    "# Create new row for the player info\n",
    "newRowLocation = sheetPlayers.max_row +1\n",
    "sheetPlayers.append([season, jerseyNb, playerName, club.split(\"/\")[1], playerHeight, playerWeight])\n",
    "workbook.save(filename=pathExcel)"
   ]
  }
 ],
 "metadata": {
  "kernelspec": {
   "display_name": "Python 3 (ipykernel)",
   "language": "python",
   "name": "python3"
  },
  "language_info": {
   "codemirror_mode": {
    "name": "ipython",
    "version": 3
   },
   "file_extension": ".py",
   "mimetype": "text/x-python",
   "name": "python",
   "nbconvert_exporter": "python",
   "pygments_lexer": "ipython3",
   "version": "3.9.13"
  }
 },
 "nbformat": 4,
 "nbformat_minor": 5
}
