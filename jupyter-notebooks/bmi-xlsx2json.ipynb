{
 "cells": [
  {
   "cell_type": "markdown",
   "id": "16d19a16",
   "metadata": {},
   "source": [
    "# Conversion from xlsx to json\n",
    "\n",
    "Converts the xslx file with the height and weight information for ice hockey players to individual json files, usable with the smplify_with_bmi.sif container\n",
    "Azilis EVEN"
   ]
  },
  {
   "cell_type": "code",
   "execution_count": 1,
   "id": "183e8ecc",
   "metadata": {},
   "outputs": [],
   "source": [
    "import openpyxl \n",
    "import csv \n",
    "import json"
   ]
  },
  {
   "cell_type": "code",
   "execution_count": 7,
   "id": "d77ddb17",
   "metadata": {},
   "outputs": [],
   "source": [
    "# To load\n",
    "bmi_xlsx = \"C:/Users/Azilis/Documents/master-thesis-ipynb/log-pose-bmi.xlsx\""
   ]
  },
  {
   "cell_type": "code",
   "execution_count": 8,
   "id": "c2f83460",
   "metadata": {},
   "outputs": [],
   "source": [
    "# open bmi excel file and store in excel object  \n",
    "excel = openpyxl.load_workbook(bmi_xlsx) \n",
    "  \n",
    "# select the active sheet \n",
    "sheet = excel.active \n",
    "  \n",
    "# Write to csv to make it more easy to put to json\n",
    "bmi_csv = bmi_xlsx.split(\".\")[0] + \".csv\"\n",
    "with open(bmi_csv, 'w', newline=\"\") as f:\n",
    "    col = csv.writer(f) \n",
    "    # writing the data in csv file \n",
    "    for r in sheet.rows: \n",
    "        col.writerow([cell.value for cell in r]) \n",
    "    f.close()"
   ]
  },
  {
   "cell_type": "code",
   "execution_count": 9,
   "id": "b861f917",
   "metadata": {},
   "outputs": [],
   "source": [
    "with open(bmi_csv) as csvfile:\n",
    "    reader = csv.reader(csvfile, delimiter=',')\n",
    "    firstRow = True\n",
    "    for row in reader:\n",
    "        if firstRow: \n",
    "            firstRow = False\n",
    "        else:\n",
    "            height = row[4]     \n",
    "            weight = row[5]\n",
    "            playerId = row[7]\n",
    "            jsonPath = playerId + \"_bmi.json\"\n",
    "            with open(jsonPath, \"w\") as f:\n",
    "                json.dump({\"height\": float(height), \"weight\": float(weight)}, f, indent=2)\n",
    "    csvfile.close()"
   ]
  },
  {
   "cell_type": "code",
   "execution_count": null,
   "id": "b5d73725",
   "metadata": {},
   "outputs": [],
   "source": []
  }
 ],
 "metadata": {
  "kernelspec": {
   "display_name": "Python 3 (ipykernel)",
   "language": "python",
   "name": "python3"
  },
  "language_info": {
   "codemirror_mode": {
    "name": "ipython",
    "version": 3
   },
   "file_extension": ".py",
   "mimetype": "text/x-python",
   "name": "python",
   "nbconvert_exporter": "python",
   "pygments_lexer": "ipython3",
   "version": "3.9.13"
  }
 },
 "nbformat": 4,
 "nbformat_minor": 5
}
